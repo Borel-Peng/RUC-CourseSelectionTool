{
 "cells": [
  {
   "cell_type": "code",
   "execution_count": 13,
   "metadata": {},
   "outputs": [
    {
     "name": "stdout",
     "output_type": "stream",
     "text": [
      "请先手动等待页面加载完成\n"
     ]
    }
   ],
   "source": [
    "from ruclogin import RUC_LOGIN\n",
    "import pickle\n",
    "\n",
    "login = RUC_LOGIN(debug=True)\n",
    "login.initial_login(\"jw\")\n",
    "login.login()\n",
    "driver = login.driver\n",
    "\n",
    "print(\"请先手动等待页面加载完成\")"
   ]
  },
  {
   "cell_type": "code",
   "execution_count": 14,
   "metadata": {},
   "outputs": [
    {
     "name": "stdout",
     "output_type": "stream",
     "text": [
      "在浏览器里，选一遍所有你想选的课程（即使失败）\n"
     ]
    }
   ],
   "source": [
    "driver.get(\n",
    "    \"https://jw.ruc.edu.cn/Njw2017/student/student-choice-center/student-select-course.html#/?wf=undefined&resCode=undefined&jczy013id=2023-2024-2&xkgl017id=c134b4230000WH&xkgl019id=c134b42d0000WH&language=zh\"\n",
    ")\n",
    "del driver.requests\n",
    "print(\"在浏览器里，选一遍所有你想选的课程（即使失败）\")"
   ]
  },
  {
   "cell_type": "code",
   "execution_count": 15,
   "metadata": {},
   "outputs": [
    {
     "name": "stdout",
     "output_type": "stream",
     "text": [
      "你选择的课程是： 习近平强军思想概论01班\n",
      "现在你可以直接运行 main.py\n"
     ]
    }
   ],
   "source": [
    "json_datas = []\n",
    "for request in driver.requests:\n",
    "    if request.path.endswith(\"saveStuXkByRmdx\"):\n",
    "        data = request.body.decode(\"utf-8\")\n",
    "        data = data.replace(\"null\", \"None\")\n",
    "        data = data.replace(\"false\", \"False\")\n",
    "        data = data.replace(\"true\", \"True\")\n",
    "        d = eval(data)\n",
    "        json_datas.append(d)\n",
    "pickle.dump(json_datas, open(\"json_datas.pkl\", \"wb\"))\n",
    "print(\"你选择的课程是：\", \" \".join([data[\"ktmc_name\"] for data in json_datas]))\n",
    "print(\"现在你可以直接运行 main.py\")"
   ]
  }
 ],
 "metadata": {
  "kernelspec": {
   "display_name": "base",
   "language": "python",
   "name": "python3"
  },
  "language_info": {
   "codemirror_mode": {
    "name": "ipython",
    "version": 3
   },
   "file_extension": ".py",
   "mimetype": "text/x-python",
   "name": "python",
   "nbconvert_exporter": "python",
   "pygments_lexer": "ipython3",
   "version": "3.11.5"
  }
 },
 "nbformat": 4,
 "nbformat_minor": 2
}
